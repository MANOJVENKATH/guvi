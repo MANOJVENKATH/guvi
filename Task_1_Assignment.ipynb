{
  "nbformat": 4,
  "nbformat_minor": 0,
  "metadata": {
    "colab": {
      "name": "Task 1 Assignment",
      "provenance": [],
      "authorship_tag": "ABX9TyNPFbxCMUEsz3sEL4vi4mch",
      "include_colab_link": true
    },
    "kernelspec": {
      "name": "python3",
      "display_name": "Python 3"
    },
    "language_info": {
      "name": "python"
    }
  },
  "cells": [
    {
      "cell_type": "markdown",
      "metadata": {
        "id": "view-in-github",
        "colab_type": "text"
      },
      "source": [
        "<a href=\"https://colab.research.google.com/github/MANOJVENKATH/guvi/blob/main/Task_1_Assignment.ipynb\" target=\"_parent\"><img src=\"https://colab.research.google.com/assets/colab-badge.svg\" alt=\"Open In Colab\"/></a>"
      ]
    },
    {
      "cell_type": "code",
      "source": [
        "!pip install dnspython\n",
        "!pip install pymongo[srv]"
      ],
      "metadata": {
        "colab": {
          "base_uri": "https://localhost:8080/"
        },
        "id": "i2MWNT-9lQm3",
        "outputId": "96bb0007-4ed3-47b4-9562-08f78904d0ce"
      },
      "execution_count": 1,
      "outputs": [
        {
          "output_type": "stream",
          "name": "stdout",
          "text": [
            "Collecting dnspython\n",
            "  Downloading dnspython-2.2.1-py3-none-any.whl (269 kB)\n",
            "\u001b[?25l\r\u001b[K     |█▏                              | 10 kB 24.7 MB/s eta 0:00:01\r\u001b[K     |██▍                             | 20 kB 12.3 MB/s eta 0:00:01\r\u001b[K     |███▋                            | 30 kB 8.9 MB/s eta 0:00:01\r\u001b[K     |████▉                           | 40 kB 3.8 MB/s eta 0:00:01\r\u001b[K     |██████                          | 51 kB 3.8 MB/s eta 0:00:01\r\u001b[K     |███████▎                        | 61 kB 4.5 MB/s eta 0:00:01\r\u001b[K     |████████▌                       | 71 kB 4.7 MB/s eta 0:00:01\r\u001b[K     |█████████▊                      | 81 kB 4.9 MB/s eta 0:00:01\r\u001b[K     |███████████                     | 92 kB 5.4 MB/s eta 0:00:01\r\u001b[K     |████████████▏                   | 102 kB 4.4 MB/s eta 0:00:01\r\u001b[K     |█████████████▍                  | 112 kB 4.4 MB/s eta 0:00:01\r\u001b[K     |██████████████▋                 | 122 kB 4.4 MB/s eta 0:00:01\r\u001b[K     |███████████████▉                | 133 kB 4.4 MB/s eta 0:00:01\r\u001b[K     |█████████████████               | 143 kB 4.4 MB/s eta 0:00:01\r\u001b[K     |██████████████████▎             | 153 kB 4.4 MB/s eta 0:00:01\r\u001b[K     |███████████████████▌            | 163 kB 4.4 MB/s eta 0:00:01\r\u001b[K     |████████████████████▊           | 174 kB 4.4 MB/s eta 0:00:01\r\u001b[K     |██████████████████████          | 184 kB 4.4 MB/s eta 0:00:01\r\u001b[K     |███████████████████████▏        | 194 kB 4.4 MB/s eta 0:00:01\r\u001b[K     |████████████████████████▍       | 204 kB 4.4 MB/s eta 0:00:01\r\u001b[K     |█████████████████████████▋      | 215 kB 4.4 MB/s eta 0:00:01\r\u001b[K     |██████████████████████████▉     | 225 kB 4.4 MB/s eta 0:00:01\r\u001b[K     |████████████████████████████    | 235 kB 4.4 MB/s eta 0:00:01\r\u001b[K     |█████████████████████████████▎  | 245 kB 4.4 MB/s eta 0:00:01\r\u001b[K     |██████████████████████████████▍ | 256 kB 4.4 MB/s eta 0:00:01\r\u001b[K     |███████████████████████████████▋| 266 kB 4.4 MB/s eta 0:00:01\r\u001b[K     |████████████████████████████████| 269 kB 4.4 MB/s \n",
            "\u001b[?25hInstalling collected packages: dnspython\n",
            "Successfully installed dnspython-2.2.1\n",
            "Requirement already satisfied: pymongo[srv] in /usr/local/lib/python3.7/dist-packages (4.0.2)\n",
            "Requirement already satisfied: dnspython<3.0.0,>=1.16.0 in /usr/local/lib/python3.7/dist-packages (from pymongo[srv]) (2.2.1)\n"
          ]
        }
      ]
    },
    {
      "cell_type": "code",
      "source": [
        "def register():\n",
        "  db=open(\"database.txt\",\"r\")\n",
        "  username=input(\"enter username:\")\n",
        "  email=input(\"enter email:\")\n",
        "  valid_email(email)\n",
        "  password=input(\"enter password:\")\n",
        "  valid_password(password)\n",
        "  password1=input(\"confirm password:\")\n",
        "  d=[]\n",
        "  f=[]\n",
        "  for i in db:\n",
        "    a,b=i.split(\",\")\n",
        "    b=b.strip()\n",
        "    d.append(a)\n",
        "    f.append(b)\n",
        "  data=dict(zip(d,f))\n",
        "\n",
        "  if password!=password1:\n",
        "    print(\"password don't match, restart\")\n",
        "    register()\n",
        "  else:\n",
        "    if len(password)<=5:\n",
        "     print(\"password is to short, restart\")\n",
        "     register()\n",
        "    #elif username in d:\n",
        "     #print(\"username exists\")\n",
        "      #register()\n",
        "    else:\n",
        "      db=open(\"database.txt\",\"a\")\n",
        "      db.write(username+\",\"+password+\"\\n\")\n",
        "      print(\"success!\")\n",
        "\n",
        "\n",
        "def access():\n",
        "  db=open(\"database.txt\",\"r\")\n",
        "  username=input(\"enter username:\")\n",
        "  password=input(\"enter password:\")\n",
        "\n",
        "  if not len(username or password)<1:\n",
        "    d=[]\n",
        "    f=[]\n",
        "    for i in db:\n",
        "      a,b=i.split(\",\")\n",
        "      #b=b.strip()\n",
        "      d.append(a)\n",
        "      f.append(b)\n",
        "    data=dict(zip(d,f))\n",
        "\n",
        "  try:\n",
        "   if password==data[username]:\n",
        "      print(\"login success\")\n",
        "      print(\"hi\", username)\n",
        "   else :\n",
        "      print(\"password or username incorrect\")\n",
        "  except:\n",
        "       print(\"incorrect password or username\")\n",
        "\n",
        "def get_pass():\n",
        "  db=open(\"database.txt\",\"r\")\n",
        "  user=input(\"To access your forgoteen password,please enter your user name\")\n",
        "  users=[]\n",
        "  passwords=[]\n",
        "  for i in db:\n",
        "    a,b=i.split(\",\")\n",
        "    b=b.strip()\n",
        "    users.append(a)\n",
        "    passwords.append(b)\n",
        "  info=dict(zip(users,passwords))\n",
        "\n",
        "  if user in info:\n",
        "    print(\"here is your password: \", info.get(user))\n",
        "  else:\n",
        "    print(\"user does not exist\")\n",
        "    print(\"you have to register\")\n",
        "    home()\n",
        "\n",
        "def valid_email(email):\n",
        "  if '@' not in email:\n",
        "    print(\"please enter valid email\")\n",
        "    email=input(\"enter email:\")\n",
        "    ind=email.index(\"@\")\n",
        "\n",
        "    if '.' not in email:\n",
        "      print(\"please enter valid email\")\n",
        "      email=input(\"enter email:\")\n",
        "      valid_email(email)\n",
        "\n",
        "    \n",
        "      if '.com' not in email[ind:] or '@.' in email:\n",
        "         print(\"please enter a valid email\")\n",
        "         email=input(\"enter email:\")\n",
        "         valid_email(email)\n",
        "\n",
        "def valid_password(pwd):\n",
        "  symbols={'~',':',\"'\",'[','\\\\','@','^','{','%','(','-','\"','*','|',',','&','<','`','}','.','_','=',']','!','>','>',';','?','#','$',')','/'}\n",
        "  val=True\n",
        "\n",
        "  if len(pwd)<5:\n",
        "    print(\"length should be atleast 5 character\")\n",
        "    val=False\n",
        "    password=input(\"enter password:\")\n",
        "    valid_password(password)\n",
        "\n",
        "  elif len(pwd)>16:\n",
        "    print(\"length should not greater then 16 character\")\n",
        "    val=False\n",
        "    password=input(\"enter password:\")\n",
        "    valid_password(password)\n",
        "  \n",
        "  elif not any(char.isdigit() for char in pwd):\n",
        "    print(\"password should have atleast one digit\")\n",
        "    val=False\n",
        "    password=(\"enter password:\")\n",
        "    valid_password(password)\n",
        "\n",
        "  elif not any(char.isupper() for char in pwd):\n",
        "    print(\"password should have atleat one uppercase character\")\n",
        "    val=False\n",
        "    password=input(\"enter password:\")\n",
        "    valid_password(password)\n",
        "\n",
        "  elif not any(char.islower() for char in pwd):\n",
        "    print(\"password should have atleast one lowercase character\")\n",
        "    val=False\n",
        "    password=(\"enter password:\")\n",
        "    valid_password(password)\n",
        "  \n",
        "  elif not any(char in symbols for char in pwd):\n",
        "    print(\"password should have atleast one special character\")\n",
        "    val=False\n",
        "    password=input(\"enter password:\")\n",
        "    valid_password(password)\n",
        "  \n",
        "  elif val:\n",
        "    return val\n",
        "\n",
        "\n",
        "\n",
        "def home():\n",
        "  option=input(\"login | signup | retrive_password\")\n",
        "  if option==\"login\":\n",
        "    access()\n",
        "  elif option==\"signup\":\n",
        "    register()\n",
        "  elif option==\"retrive_password\":\n",
        "    get_pass()\n",
        "  else:\n",
        "    print(\"enter an option:\")\n",
        "home()"
      ],
      "metadata": {
        "colab": {
          "base_uri": "https://localhost:8080/",
          "height": 362
        },
        "id": "NvV3W3UzldeV",
        "outputId": "1afaa4ad-1f9d-4aeb-a23a-dab7e4456570"
      },
      "execution_count": 5,
      "outputs": [
        {
          "name": "stdout",
          "output_type": "stream",
          "text": [
            "login | signup | retrive_passwordsignup\n"
          ]
        },
        {
          "output_type": "error",
          "ename": "FileNotFoundError",
          "evalue": "ignored",
          "traceback": [
            "\u001b[0;31m---------------------------------------------------------------------------\u001b[0m",
            "\u001b[0;31mFileNotFoundError\u001b[0m                         Traceback (most recent call last)",
            "\u001b[0;32m<ipython-input-5-efb2fc00e294>\u001b[0m in \u001b[0;36m<module>\u001b[0;34m()\u001b[0m\n\u001b[1;32m    147\u001b[0m   \u001b[0;32melse\u001b[0m\u001b[0;34m:\u001b[0m\u001b[0;34m\u001b[0m\u001b[0;34m\u001b[0m\u001b[0m\n\u001b[1;32m    148\u001b[0m     \u001b[0mprint\u001b[0m\u001b[0;34m(\u001b[0m\u001b[0;34m\"enter an option:\"\u001b[0m\u001b[0;34m)\u001b[0m\u001b[0;34m\u001b[0m\u001b[0;34m\u001b[0m\u001b[0m\n\u001b[0;32m--> 149\u001b[0;31m \u001b[0mhome\u001b[0m\u001b[0;34m(\u001b[0m\u001b[0;34m)\u001b[0m\u001b[0;34m\u001b[0m\u001b[0;34m\u001b[0m\u001b[0m\n\u001b[0m",
            "\u001b[0;32m<ipython-input-5-efb2fc00e294>\u001b[0m in \u001b[0;36mhome\u001b[0;34m()\u001b[0m\n\u001b[1;32m    142\u001b[0m     \u001b[0maccess\u001b[0m\u001b[0;34m(\u001b[0m\u001b[0;34m)\u001b[0m\u001b[0;34m\u001b[0m\u001b[0;34m\u001b[0m\u001b[0m\n\u001b[1;32m    143\u001b[0m   \u001b[0;32melif\u001b[0m \u001b[0moption\u001b[0m\u001b[0;34m==\u001b[0m\u001b[0;34m\"signup\"\u001b[0m\u001b[0;34m:\u001b[0m\u001b[0;34m\u001b[0m\u001b[0;34m\u001b[0m\u001b[0m\n\u001b[0;32m--> 144\u001b[0;31m     \u001b[0mregister\u001b[0m\u001b[0;34m(\u001b[0m\u001b[0;34m)\u001b[0m\u001b[0;34m\u001b[0m\u001b[0;34m\u001b[0m\u001b[0m\n\u001b[0m\u001b[1;32m    145\u001b[0m   \u001b[0;32melif\u001b[0m \u001b[0moption\u001b[0m\u001b[0;34m==\u001b[0m\u001b[0;34m\"retrive_password\"\u001b[0m\u001b[0;34m:\u001b[0m\u001b[0;34m\u001b[0m\u001b[0;34m\u001b[0m\u001b[0m\n\u001b[1;32m    146\u001b[0m     \u001b[0mget_pass\u001b[0m\u001b[0;34m(\u001b[0m\u001b[0;34m)\u001b[0m\u001b[0;34m\u001b[0m\u001b[0;34m\u001b[0m\u001b[0m\n",
            "\u001b[0;32m<ipython-input-5-efb2fc00e294>\u001b[0m in \u001b[0;36mregister\u001b[0;34m()\u001b[0m\n\u001b[1;32m      1\u001b[0m \u001b[0;32mdef\u001b[0m \u001b[0mregister\u001b[0m\u001b[0;34m(\u001b[0m\u001b[0;34m)\u001b[0m\u001b[0;34m:\u001b[0m\u001b[0;34m\u001b[0m\u001b[0;34m\u001b[0m\u001b[0m\n\u001b[0;32m----> 2\u001b[0;31m   \u001b[0mdb\u001b[0m\u001b[0;34m=\u001b[0m\u001b[0mopen\u001b[0m\u001b[0;34m(\u001b[0m\u001b[0;34m\"database.txt\"\u001b[0m\u001b[0;34m,\u001b[0m\u001b[0;34m\"r\"\u001b[0m\u001b[0;34m)\u001b[0m\u001b[0;34m\u001b[0m\u001b[0;34m\u001b[0m\u001b[0m\n\u001b[0m\u001b[1;32m      3\u001b[0m   \u001b[0musername\u001b[0m\u001b[0;34m=\u001b[0m\u001b[0minput\u001b[0m\u001b[0;34m(\u001b[0m\u001b[0;34m\"enter username:\"\u001b[0m\u001b[0;34m)\u001b[0m\u001b[0;34m\u001b[0m\u001b[0;34m\u001b[0m\u001b[0m\n\u001b[1;32m      4\u001b[0m   \u001b[0memail\u001b[0m\u001b[0;34m=\u001b[0m\u001b[0minput\u001b[0m\u001b[0;34m(\u001b[0m\u001b[0;34m\"enter email:\"\u001b[0m\u001b[0;34m)\u001b[0m\u001b[0;34m\u001b[0m\u001b[0;34m\u001b[0m\u001b[0m\n\u001b[1;32m      5\u001b[0m   \u001b[0mvalid_email\u001b[0m\u001b[0;34m(\u001b[0m\u001b[0memail\u001b[0m\u001b[0;34m)\u001b[0m\u001b[0;34m\u001b[0m\u001b[0;34m\u001b[0m\u001b[0m\n",
            "\u001b[0;31mFileNotFoundError\u001b[0m: [Errno 2] No such file or directory: 'database.txt'"
          ]
        }
      ]
    },
    {
      "cell_type": "code",
      "source": [
        ""
      ],
      "metadata": {
        "id": "ueS3NEoLlTNG"
      },
      "execution_count": null,
      "outputs": []
    }
  ]
}