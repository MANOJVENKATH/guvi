{
  "nbformat": 4,
  "nbformat_minor": 0,
  "metadata": {
    "colab": {
      "name": "Task 1 Assignment",
      "provenance": [],
      "authorship_tag": "ABX9TyN0s+UOSngsptF7rkvG0oGS",
      "include_colab_link": true
    },
    "kernelspec": {
      "name": "python3",
      "display_name": "Python 3"
    },
    "language_info": {
      "name": "python"
    }
  },
  "cells": [
    {
      "cell_type": "markdown",
      "metadata": {
        "id": "view-in-github",
        "colab_type": "text"
      },
      "source": [
        "<a href=\"https://colab.research.google.com/github/MANOJVENKATH/guvi/blob/main/Task_1_Assignment.ipynb\" target=\"_parent\"><img src=\"https://colab.research.google.com/assets/colab-badge.svg\" alt=\"Open In Colab\"/></a>"
      ]
    },
    {
      "cell_type": "code",
      "source": [
        "!pip install dnspython\n",
        "!pip install pymongo[srv]"
      ],
      "metadata": {
        "colab": {
          "base_uri": "https://localhost:8080/"
        },
        "id": "i2MWNT-9lQm3",
        "outputId": "575354cf-8596-4c81-b704-d46fca3213f8"
      },
      "execution_count": 8,
      "outputs": [
        {
          "output_type": "stream",
          "name": "stdout",
          "text": [
            "Requirement already satisfied: dnspython in /usr/local/lib/python3.7/dist-packages (2.2.1)\n",
            "Requirement already satisfied: pymongo[srv] in /usr/local/lib/python3.7/dist-packages (4.0.2)\n",
            "Requirement already satisfied: dnspython<3.0.0,>=1.16.0 in /usr/local/lib/python3.7/dist-packages (from pymongo[srv]) (2.2.1)\n"
          ]
        }
      ]
    },
    {
      "cell_type": "code",
      "source": [
        "def register():\n",
        "  db=open(\"database.txt\",\"w\")\n",
        "  username=input(\"enter username:\")\n",
        "  email=input(\"enter email:\")\n",
        "  valid_email(email)\n",
        "  password=input(\"enter password:\")\n",
        "  valid_password(password)\n",
        "  password1=input(\"confirm password:\")\n",
        "  d=[]\n",
        "  f=[]\n",
        "  for i in db:\n",
        "    a,b=i.split(\",\")\n",
        "    b=b.strip()\n",
        "    d.append(a)\n",
        "    f.append(b)\n",
        "  data=dict(zip(d,f))\n",
        "\n",
        "  if password!=password1:\n",
        "    print(\"password don't match, restart\")\n",
        "    register()\n",
        "  else:\n",
        "    if len(password)<=5:\n",
        "     print(\"password is to short, restart\")\n",
        "     register()\n",
        "    #elif username in d:\n",
        "     #print(\"username exists\")\n",
        "      #register()\n",
        "    else:\n",
        "      db=open(\"database.txt\",\"a\")\n",
        "      db.write(username+\",\"+password+\"\\n\")\n",
        "      print(\"success!\")\n",
        "\n",
        "\n",
        "def access():\n",
        "  db=open(\"database.txt\",\"r\")\n",
        "  username=input(\"enter username:\")\n",
        "  password=input(\"enter password:\")\n",
        "\n",
        "  if not len(username or password)<1:\n",
        "    d=[]\n",
        "    f=[]\n",
        "    for i in db:\n",
        "      a,b=i.split(\",\")\n",
        "      #b=b.strip()\n",
        "      d.append(a)\n",
        "      f.append(b)\n",
        "    data=dict(zip(d,f))\n",
        "\n",
        "  try:\n",
        "   if password==data[username]:\n",
        "      print(\"login success\")\n",
        "      print(\"hi\", username)\n",
        "   else :\n",
        "      print(\"password or username incorrect\")\n",
        "  except:\n",
        "       print(\"incorrect password or username\")\n",
        "\n",
        "def get_pass():\n",
        "  db=open(\"database.txt\",\"r\")\n",
        "  user=input(\"To access your forgoteen password,please enter your user name\")\n",
        "  users=[]\n",
        "  passwords=[]\n",
        "  for i in db:\n",
        "    a,b=i.split(\",\")\n",
        "    b=b.strip()\n",
        "    users.append(a)\n",
        "    passwords.append(b)\n",
        "  info=dict(zip(users,passwords))\n",
        "\n",
        "  if user in info:\n",
        "    print(\"here is your password: \", info.get(user))\n",
        "  else:\n",
        "    print(\"user does not exist\")\n",
        "    print(\"you have to register\")\n",
        "    home()\n",
        "\n",
        "def valid_email(email):\n",
        "  if '@' not in email:\n",
        "    print(\"please enter valid email\")\n",
        "    email=input(\"enter email:\")\n",
        "    ind=email.index(\"@\")\n",
        "\n",
        "    if '.' not in email:\n",
        "      print(\"please enter valid email\")\n",
        "      email=input(\"enter email:\")\n",
        "      valid_email(email)\n",
        "\n",
        "    \n",
        "      if '.com' not in email[ind:] or '@.' in email:\n",
        "         print(\"please enter a valid email\")\n",
        "         email=input(\"enter email:\")\n",
        "         valid_email(email)\n",
        "\n",
        "def valid_password(pwd):\n",
        "  symbols={'~',':',\"'\",'[','\\\\','@','^','{','%','(','-','\"','*','|',',','&','<','`','}','.','_','=',']','!','>','>',';','?','#','$',')','/'}\n",
        "  val=True\n",
        "\n",
        "  if len(pwd)<5:\n",
        "    print(\"length should be atleast 5 character\")\n",
        "    val=False\n",
        "    password=input(\"enter password:\")\n",
        "    valid_password(password)\n",
        "\n",
        "  elif len(pwd)>16:\n",
        "    print(\"length should not greater then 16 character\")\n",
        "    val=False\n",
        "    password=input(\"enter password:\")\n",
        "    valid_password(password)\n",
        "  \n",
        "  elif not any(char.isdigit() for char in pwd):\n",
        "    print(\"password should have atleast one digit\")\n",
        "    val=False\n",
        "    password=(\"enter password:\")\n",
        "    valid_password(password)\n",
        "\n",
        "  elif not any(char.isupper() for char in pwd):\n",
        "    print(\"password should have atleat one uppercase character\")\n",
        "    val=False\n",
        "    password=input(\"enter password:\")\n",
        "    valid_password(password)\n",
        "\n",
        "  elif not any(char.islower() for char in pwd):\n",
        "    print(\"password should have atleast one lowercase character\")\n",
        "    val=False\n",
        "    password=(\"enter password:\")\n",
        "    valid_password(password)\n",
        "  \n",
        "  elif not any(char in symbols for char in pwd):\n",
        "    print(\"password should have atleast one special character\")\n",
        "    val=False\n",
        "    password=input(\"enter password:\")\n",
        "    valid_password(password)\n",
        "  \n",
        "  elif val:\n",
        "    return val\n",
        "\n",
        "\n",
        "\n",
        "def home():\n",
        "  option=input(\"login | signup | retrive_password\")\n",
        "  if option==\"login\":\n",
        "    access()\n",
        "  elif option==\"signup\":\n",
        "    register()\n",
        "  elif option==\"retrive_password\":\n",
        "    get_pass()\n",
        "  else:\n",
        "    print(\"enter an option:\")\n",
        "home()"
      ],
      "metadata": {
        "id": "NvV3W3UzldeV"
      },
      "execution_count": null,
      "outputs": []
    },
    {
      "cell_type": "code",
      "source": [
        ""
      ],
      "metadata": {
        "id": "ueS3NEoLlTNG"
      },
      "execution_count": null,
      "outputs": []
    }
  ]
}